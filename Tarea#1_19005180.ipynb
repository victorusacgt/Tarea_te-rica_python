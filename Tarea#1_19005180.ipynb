{
 "cells": [
  {
   "cell_type": "markdown",
   "metadata": {},
   "source": [
    "## Victor Rene Pérez Mayen\n",
    "## 19005180"
   ]
  },
  {
   "cell_type": "markdown",
   "metadata": {},
   "source": [
    "**Funciones**:\n",
    "Tambien llamadas sub-rutinas, procedimientos o metodos en otros lenguajes, esta tarea consiste en investigar:\n",
    "* funciones en Python\n",
    "* parametros posisionales\n",
    "* parametros nombrados\n",
    "* retorno de multiples valores\n",
    "* funciones como objetos y como parametros de otras funciones\n",
    "* funciones anonimas o lambda\n"
   ]
  },
  {
   "cell_type": "markdown",
   "metadata": {},
   "source": [
    "# Funciones de python\n",
    "\n",
    "Las funciones en Python admiten argumentos en su llamada y permiten devolver valores, estos se pueden crar en cualquier parte del programa. Las lineas de funciones deben contener:\n",
    "-La palabra ref.\n",
    "-El nombre de la función, la cual es guía de estilo de Python.\n",
    "-Paréntesis los cuales pueden incluir los argumentos de la función.\n",
    "-Las instrucciones que forman la función se escriben con sangría con respecto a la primera línea.\n",
    "\n",
    "\n"
   ]
  },
  {
   "cell_type": "markdown",
   "metadata": {},
   "source": [
    "# Parametros Posicionales\n",
    "\n",
    "Un parámetro es un valor que la función espera recibir cuando esta sea llamada, a fin de ejecutar acciones en base al mismo. \n",
    "\n",
    "Los parámetros posicionales se almacenan como una variable en un script, "
   ]
  },
  {
   "cell_type": "markdown",
   "metadata": {},
   "source": [
    "# Parametros Nombrados\n",
    "\n"
   ]
  }
 ],
 "metadata": {
  "kernelspec": {
   "display_name": "Python 3",
   "language": "python",
   "name": "python3"
  },
  "language_info": {
   "codemirror_mode": {
    "name": "ipython",
    "version": 3
   },
   "file_extension": ".py",
   "mimetype": "text/x-python",
   "name": "python",
   "nbconvert_exporter": "python",
   "pygments_lexer": "ipython3",
   "version": "3.7.2"
  }
 },
 "nbformat": 4,
 "nbformat_minor": 2
}
